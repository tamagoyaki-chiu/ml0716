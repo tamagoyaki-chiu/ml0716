{
  "nbformat": 4,
  "nbformat_minor": 0,
  "metadata": {
    "colab": {
      "name": "boston.ipynb",
      "provenance": [],
      "collapsed_sections": [],
      "authorship_tag": "ABX9TyPwUG/FE5npxv3HURRgilCX",
      "include_colab_link": true
    },
    "kernelspec": {
      "name": "python3",
      "display_name": "Python 3"
    }
  },
  "cells": [
    {
      "cell_type": "markdown",
      "metadata": {
        "id": "view-in-github",
        "colab_type": "text"
      },
      "source": [
        "<a href=\"https://colab.research.google.com/github/tamagoyaki-chiu/ml0716/blob/master/boston.ipynb\" target=\"_parent\"><img src=\"https://colab.research.google.com/assets/colab-badge.svg\" alt=\"Open In Colab\"/></a>"
      ]
    },
    {
      "cell_type": "code",
      "metadata": {
        "id": "JUDHiq0JOP2a",
        "colab_type": "code",
        "colab": {}
      },
      "source": [
        "! pip install opencv-python #直接執行指令的意思(雖然colab裡面本來應該就有安裝)"
      ],
      "execution_count": null,
      "outputs": []
    },
    {
      "cell_type": "code",
      "metadata": {
        "id": "TKQ-IWwIrrBN",
        "colab_type": "code",
        "colab": {}
      },
      "source": [
        ""
      ],
      "execution_count": null,
      "outputs": []
    },
    {
      "cell_type": "code",
      "metadata": {
        "id": "J6wuWASYdllh",
        "colab_type": "code",
        "colab": {
          "base_uri": "https://localhost:8080/",
          "height": 402
        },
        "outputId": "b70294c9-c2bd-4d5f-eeb1-566cb7aebd1b"
      },
      "source": [
        "import pandas as pd #大家習慣取名叫pd\n",
        "from sklearn.datasets import load_boston\n",
        "boston = load_boston()\n",
        "df = pd.DataFrame(boston[\"data\"], #DataFrame就是pandas的表格\n",
        "                  columns=boston[\"feature_names\"])\n",
        "df[\"answer\"]=boston[\"target\"] #答案\n",
        "df"
      ],
      "execution_count": 28,
      "outputs": [
        {
          "output_type": "execute_result",
          "data": {
            "text/html": [
              "<div>\n",
              "<style scoped>\n",
              "    .dataframe tbody tr th:only-of-type {\n",
              "        vertical-align: middle;\n",
              "    }\n",
              "\n",
              "    .dataframe tbody tr th {\n",
              "        vertical-align: top;\n",
              "    }\n",
              "\n",
              "    .dataframe thead th {\n",
              "        text-align: right;\n",
              "    }\n",
              "</style>\n",
              "<table border=\"1\" class=\"dataframe\">\n",
              "  <thead>\n",
              "    <tr style=\"text-align: right;\">\n",
              "      <th></th>\n",
              "      <th>CRIM</th>\n",
              "      <th>ZN</th>\n",
              "      <th>INDUS</th>\n",
              "      <th>CHAS</th>\n",
              "      <th>NOX</th>\n",
              "      <th>RM</th>\n",
              "      <th>AGE</th>\n",
              "      <th>DIS</th>\n",
              "      <th>RAD</th>\n",
              "      <th>TAX</th>\n",
              "      <th>PTRATIO</th>\n",
              "      <th>B</th>\n",
              "      <th>LSTAT</th>\n",
              "      <th>answer</th>\n",
              "    </tr>\n",
              "  </thead>\n",
              "  <tbody>\n",
              "    <tr>\n",
              "      <th>0</th>\n",
              "      <td>0.00632</td>\n",
              "      <td>18.0</td>\n",
              "      <td>2.31</td>\n",
              "      <td>0.0</td>\n",
              "      <td>0.538</td>\n",
              "      <td>6.575</td>\n",
              "      <td>65.2</td>\n",
              "      <td>4.0900</td>\n",
              "      <td>1.0</td>\n",
              "      <td>296.0</td>\n",
              "      <td>15.3</td>\n",
              "      <td>396.90</td>\n",
              "      <td>4.98</td>\n",
              "      <td>24.0</td>\n",
              "    </tr>\n",
              "    <tr>\n",
              "      <th>1</th>\n",
              "      <td>0.02731</td>\n",
              "      <td>0.0</td>\n",
              "      <td>7.07</td>\n",
              "      <td>0.0</td>\n",
              "      <td>0.469</td>\n",
              "      <td>6.421</td>\n",
              "      <td>78.9</td>\n",
              "      <td>4.9671</td>\n",
              "      <td>2.0</td>\n",
              "      <td>242.0</td>\n",
              "      <td>17.8</td>\n",
              "      <td>396.90</td>\n",
              "      <td>9.14</td>\n",
              "      <td>21.6</td>\n",
              "    </tr>\n",
              "    <tr>\n",
              "      <th>2</th>\n",
              "      <td>0.02729</td>\n",
              "      <td>0.0</td>\n",
              "      <td>7.07</td>\n",
              "      <td>0.0</td>\n",
              "      <td>0.469</td>\n",
              "      <td>7.185</td>\n",
              "      <td>61.1</td>\n",
              "      <td>4.9671</td>\n",
              "      <td>2.0</td>\n",
              "      <td>242.0</td>\n",
              "      <td>17.8</td>\n",
              "      <td>392.83</td>\n",
              "      <td>4.03</td>\n",
              "      <td>34.7</td>\n",
              "    </tr>\n",
              "    <tr>\n",
              "      <th>3</th>\n",
              "      <td>0.03237</td>\n",
              "      <td>0.0</td>\n",
              "      <td>2.18</td>\n",
              "      <td>0.0</td>\n",
              "      <td>0.458</td>\n",
              "      <td>6.998</td>\n",
              "      <td>45.8</td>\n",
              "      <td>6.0622</td>\n",
              "      <td>3.0</td>\n",
              "      <td>222.0</td>\n",
              "      <td>18.7</td>\n",
              "      <td>394.63</td>\n",
              "      <td>2.94</td>\n",
              "      <td>33.4</td>\n",
              "    </tr>\n",
              "    <tr>\n",
              "      <th>4</th>\n",
              "      <td>0.06905</td>\n",
              "      <td>0.0</td>\n",
              "      <td>2.18</td>\n",
              "      <td>0.0</td>\n",
              "      <td>0.458</td>\n",
              "      <td>7.147</td>\n",
              "      <td>54.2</td>\n",
              "      <td>6.0622</td>\n",
              "      <td>3.0</td>\n",
              "      <td>222.0</td>\n",
              "      <td>18.7</td>\n",
              "      <td>396.90</td>\n",
              "      <td>5.33</td>\n",
              "      <td>36.2</td>\n",
              "    </tr>\n",
              "    <tr>\n",
              "      <th>...</th>\n",
              "      <td>...</td>\n",
              "      <td>...</td>\n",
              "      <td>...</td>\n",
              "      <td>...</td>\n",
              "      <td>...</td>\n",
              "      <td>...</td>\n",
              "      <td>...</td>\n",
              "      <td>...</td>\n",
              "      <td>...</td>\n",
              "      <td>...</td>\n",
              "      <td>...</td>\n",
              "      <td>...</td>\n",
              "      <td>...</td>\n",
              "      <td>...</td>\n",
              "    </tr>\n",
              "    <tr>\n",
              "      <th>501</th>\n",
              "      <td>0.06263</td>\n",
              "      <td>0.0</td>\n",
              "      <td>11.93</td>\n",
              "      <td>0.0</td>\n",
              "      <td>0.573</td>\n",
              "      <td>6.593</td>\n",
              "      <td>69.1</td>\n",
              "      <td>2.4786</td>\n",
              "      <td>1.0</td>\n",
              "      <td>273.0</td>\n",
              "      <td>21.0</td>\n",
              "      <td>391.99</td>\n",
              "      <td>9.67</td>\n",
              "      <td>22.4</td>\n",
              "    </tr>\n",
              "    <tr>\n",
              "      <th>502</th>\n",
              "      <td>0.04527</td>\n",
              "      <td>0.0</td>\n",
              "      <td>11.93</td>\n",
              "      <td>0.0</td>\n",
              "      <td>0.573</td>\n",
              "      <td>6.120</td>\n",
              "      <td>76.7</td>\n",
              "      <td>2.2875</td>\n",
              "      <td>1.0</td>\n",
              "      <td>273.0</td>\n",
              "      <td>21.0</td>\n",
              "      <td>396.90</td>\n",
              "      <td>9.08</td>\n",
              "      <td>20.6</td>\n",
              "    </tr>\n",
              "    <tr>\n",
              "      <th>503</th>\n",
              "      <td>0.06076</td>\n",
              "      <td>0.0</td>\n",
              "      <td>11.93</td>\n",
              "      <td>0.0</td>\n",
              "      <td>0.573</td>\n",
              "      <td>6.976</td>\n",
              "      <td>91.0</td>\n",
              "      <td>2.1675</td>\n",
              "      <td>1.0</td>\n",
              "      <td>273.0</td>\n",
              "      <td>21.0</td>\n",
              "      <td>396.90</td>\n",
              "      <td>5.64</td>\n",
              "      <td>23.9</td>\n",
              "    </tr>\n",
              "    <tr>\n",
              "      <th>504</th>\n",
              "      <td>0.10959</td>\n",
              "      <td>0.0</td>\n",
              "      <td>11.93</td>\n",
              "      <td>0.0</td>\n",
              "      <td>0.573</td>\n",
              "      <td>6.794</td>\n",
              "      <td>89.3</td>\n",
              "      <td>2.3889</td>\n",
              "      <td>1.0</td>\n",
              "      <td>273.0</td>\n",
              "      <td>21.0</td>\n",
              "      <td>393.45</td>\n",
              "      <td>6.48</td>\n",
              "      <td>22.0</td>\n",
              "    </tr>\n",
              "    <tr>\n",
              "      <th>505</th>\n",
              "      <td>0.04741</td>\n",
              "      <td>0.0</td>\n",
              "      <td>11.93</td>\n",
              "      <td>0.0</td>\n",
              "      <td>0.573</td>\n",
              "      <td>6.030</td>\n",
              "      <td>80.8</td>\n",
              "      <td>2.5050</td>\n",
              "      <td>1.0</td>\n",
              "      <td>273.0</td>\n",
              "      <td>21.0</td>\n",
              "      <td>396.90</td>\n",
              "      <td>7.88</td>\n",
              "      <td>11.9</td>\n",
              "    </tr>\n",
              "  </tbody>\n",
              "</table>\n",
              "<p>506 rows × 14 columns</p>\n",
              "</div>"
            ],
            "text/plain": [
              "        CRIM    ZN  INDUS  CHAS    NOX  ...    TAX  PTRATIO       B  LSTAT  answer\n",
              "0    0.00632  18.0   2.31   0.0  0.538  ...  296.0     15.3  396.90   4.98    24.0\n",
              "1    0.02731   0.0   7.07   0.0  0.469  ...  242.0     17.8  396.90   9.14    21.6\n",
              "2    0.02729   0.0   7.07   0.0  0.469  ...  242.0     17.8  392.83   4.03    34.7\n",
              "3    0.03237   0.0   2.18   0.0  0.458  ...  222.0     18.7  394.63   2.94    33.4\n",
              "4    0.06905   0.0   2.18   0.0  0.458  ...  222.0     18.7  396.90   5.33    36.2\n",
              "..       ...   ...    ...   ...    ...  ...    ...      ...     ...    ...     ...\n",
              "501  0.06263   0.0  11.93   0.0  0.573  ...  273.0     21.0  391.99   9.67    22.4\n",
              "502  0.04527   0.0  11.93   0.0  0.573  ...  273.0     21.0  396.90   9.08    20.6\n",
              "503  0.06076   0.0  11.93   0.0  0.573  ...  273.0     21.0  396.90   5.64    23.9\n",
              "504  0.10959   0.0  11.93   0.0  0.573  ...  273.0     21.0  393.45   6.48    22.0\n",
              "505  0.04741   0.0  11.93   0.0  0.573  ...  273.0     21.0  396.90   7.88    11.9\n",
              "\n",
              "[506 rows x 14 columns]"
            ]
          },
          "metadata": {
            "tags": []
          },
          "execution_count": 28
        }
      ]
    },
    {
      "cell_type": "code",
      "metadata": {
        "id": "LgahMyyDRLBW",
        "colab_type": "code",
        "colab": {}
      },
      "source": [
        "from sklearn.model_selection import train_test_split\n",
        "#[90% data,10% data, 90% target, 10% target]\n",
        "x_train, x_test, y_train, y_test = train_test_split(boston[\"data\"],\n",
        "                                                    boston[\"target\"],\n",
        "                                                    test_size=0.1)"
      ],
      "execution_count": 31,
      "outputs": []
    },
    {
      "cell_type": "code",
      "metadata": {
        "id": "Jof_vd43SgMk",
        "colab_type": "code",
        "colab": {
          "base_uri": "https://localhost:8080/",
          "height": 118
        },
        "outputId": "992d5b95-9164-4807-e2db-3657a79847ed"
      },
      "source": [
        "from sklearn.tree import DecisionTreeRegressor #分類方式  DecisionTreegressor是回歸\n",
        "reg = DecisionTreeRegressor(max_depth=5)\n",
        "reg.fit(x_train, y_train)"
      ],
      "execution_count": 34,
      "outputs": [
        {
          "output_type": "execute_result",
          "data": {
            "text/plain": [
              "DecisionTreeRegressor(ccp_alpha=0.0, criterion='mse', max_depth=5,\n",
              "                      max_features=None, max_leaf_nodes=None,\n",
              "                      min_impurity_decrease=0.0, min_impurity_split=None,\n",
              "                      min_samples_leaf=1, min_samples_split=2,\n",
              "                      min_weight_fraction_leaf=0.0, presort='deprecated',\n",
              "                      random_state=None, splitter='best')"
            ]
          },
          "metadata": {
            "tags": []
          },
          "execution_count": 34
        }
      ]
    },
    {
      "cell_type": "code",
      "metadata": {
        "id": "BZo-nL_nTqhD",
        "colab_type": "code",
        "colab": {
          "base_uri": "https://localhost:8080/",
          "height": 816
        },
        "outputId": "fc77c169-6731-4700-c965-6011512ae277"
      },
      "source": [
        "import graphviz\n",
        "from sklearn.tree import export_graphviz\n",
        "g = export_graphviz(reg,\n",
        "                    feature_names=boston[\"feature_names\"],\n",
        "                    filled=True)\n",
        "graphviz.Source(g) #gini係數=(1-(猜錯的程度、機率)) 越來越小  P1(1-P1)+P2(1-P2)"
      ],
      "execution_count": 36,
      "outputs": [
        {
          "output_type": "execute_result",
          "data": {
            "text/plain": [
              "<graphviz.files.Source at 0x7f190f9a3ef0>"
            ],
            "image/svg+xml": "<?xml version=\"1.0\" encoding=\"UTF-8\" standalone=\"no\"?>\n<!DOCTYPE svg PUBLIC \"-//W3C//DTD SVG 1.1//EN\"\n \"http://www.w3.org/Graphics/SVG/1.1/DTD/svg11.dtd\">\n<!-- Generated by graphviz version 2.40.1 (20161225.0304)\n -->\n<!-- Title: Tree Pages: 1 -->\n<svg width=\"2340pt\" height=\"581pt\"\n viewBox=\"0.00 0.00 2340.00 581.00\" xmlns=\"http://www.w3.org/2000/svg\" xmlns:xlink=\"http://www.w3.org/1999/xlink\">\n<g id=\"graph0\" class=\"graph\" transform=\"scale(1 1) rotate(0) translate(4 577)\">\n<title>Tree</title>\n<polygon fill=\"#ffffff\" stroke=\"transparent\" points=\"-4,4 -4,-577 2336,-577 2336,4 -4,4\"/>\n<!-- 0 -->\n<g id=\"node1\" class=\"node\">\n<title>0</title>\n<polygon fill=\"#f7d7c0\" stroke=\"#000000\" points=\"1005.5,-573 887.5,-573 887.5,-505 1005.5,-505 1005.5,-573\"/>\n<text text-anchor=\"middle\" x=\"946.5\" y=\"-557.8\" font-family=\"Times,serif\" font-size=\"14.00\" fill=\"#000000\">LSTAT &lt;= 9.725</text>\n<text text-anchor=\"middle\" x=\"946.5\" y=\"-542.8\" font-family=\"Times,serif\" font-size=\"14.00\" fill=\"#000000\">mse = 80.851</text>\n<text text-anchor=\"middle\" x=\"946.5\" y=\"-527.8\" font-family=\"Times,serif\" font-size=\"14.00\" fill=\"#000000\">samples = 455</text>\n<text text-anchor=\"middle\" x=\"946.5\" y=\"-512.8\" font-family=\"Times,serif\" font-size=\"14.00\" fill=\"#000000\">value = 22.347</text>\n</g>\n<!-- 1 -->\n<g id=\"node2\" class=\"node\">\n<title>1</title>\n<polygon fill=\"#f2c19e\" stroke=\"#000000\" points=\"761.5,-469 657.5,-469 657.5,-401 761.5,-401 761.5,-469\"/>\n<text text-anchor=\"middle\" x=\"709.5\" y=\"-453.8\" font-family=\"Times,serif\" font-size=\"14.00\" fill=\"#000000\">RM &lt;= 7.011</text>\n<text text-anchor=\"middle\" x=\"709.5\" y=\"-438.8\" font-family=\"Times,serif\" font-size=\"14.00\" fill=\"#000000\">mse = 73.579</text>\n<text text-anchor=\"middle\" x=\"709.5\" y=\"-423.8\" font-family=\"Times,serif\" font-size=\"14.00\" fill=\"#000000\">samples = 190</text>\n<text text-anchor=\"middle\" x=\"709.5\" y=\"-408.8\" font-family=\"Times,serif\" font-size=\"14.00\" fill=\"#000000\">value = 29.393</text>\n</g>\n<!-- 0&#45;&gt;1 -->\n<g id=\"edge1\" class=\"edge\">\n<title>0&#45;&gt;1</title>\n<path fill=\"none\" stroke=\"#000000\" d=\"M887.3062,-513.0247C851.9401,-497.5054 807.0784,-477.8192 771.2656,-462.1039\"/>\n<polygon fill=\"#000000\" stroke=\"#000000\" points=\"772.4583,-458.8051 761.8947,-457.9918 769.6454,-465.2151 772.4583,-458.8051\"/>\n<text text-anchor=\"middle\" x=\"770.9789\" y=\"-477.5829\" font-family=\"Times,serif\" font-size=\"14.00\" fill=\"#000000\">True</text>\n</g>\n<!-- 22 -->\n<g id=\"node23\" class=\"node\">\n<title>22</title>\n<polygon fill=\"#fae7d9\" stroke=\"#000000\" points=\"1240.5,-469 1130.5,-469 1130.5,-401 1240.5,-401 1240.5,-469\"/>\n<text text-anchor=\"middle\" x=\"1185.5\" y=\"-453.8\" font-family=\"Times,serif\" font-size=\"14.00\" fill=\"#000000\">LSTAT &lt;= 15.0</text>\n<text text-anchor=\"middle\" x=\"1185.5\" y=\"-438.8\" font-family=\"Times,serif\" font-size=\"14.00\" fill=\"#000000\">mse = 24.951</text>\n<text text-anchor=\"middle\" x=\"1185.5\" y=\"-423.8\" font-family=\"Times,serif\" font-size=\"14.00\" fill=\"#000000\">samples = 265</text>\n<text text-anchor=\"middle\" x=\"1185.5\" y=\"-408.8\" font-family=\"Times,serif\" font-size=\"14.00\" fill=\"#000000\">value = 17.295</text>\n</g>\n<!-- 0&#45;&gt;22 -->\n<g id=\"edge22\" class=\"edge\">\n<title>0&#45;&gt;22</title>\n<path fill=\"none\" stroke=\"#000000\" d=\"M1005.5787,-513.2921C1040.601,-498.0523 1085.0195,-478.7238 1120.9589,-463.0848\"/>\n<polygon fill=\"#000000\" stroke=\"#000000\" points=\"1122.6049,-466.1856 1130.3779,-458.9862 1119.8118,-459.767 1122.6049,-466.1856\"/>\n<text text-anchor=\"middle\" x=\"1121.2219\" y=\"-478.5492\" font-family=\"Times,serif\" font-size=\"14.00\" fill=\"#000000\">False</text>\n</g>\n<!-- 2 -->\n<g id=\"node3\" class=\"node\">\n<title>2</title>\n<polygon fill=\"#f4ccaf\" stroke=\"#000000\" points=\"400.5,-365 296.5,-365 296.5,-297 400.5,-297 400.5,-365\"/>\n<text text-anchor=\"middle\" x=\"348.5\" y=\"-349.8\" font-family=\"Times,serif\" font-size=\"14.00\" fill=\"#000000\">DIS &lt;= 1.485</text>\n<text text-anchor=\"middle\" x=\"348.5\" y=\"-334.8\" font-family=\"Times,serif\" font-size=\"14.00\" fill=\"#000000\">mse = 35.682</text>\n<text text-anchor=\"middle\" x=\"348.5\" y=\"-319.8\" font-family=\"Times,serif\" font-size=\"14.00\" fill=\"#000000\">samples = 141</text>\n<text text-anchor=\"middle\" x=\"348.5\" y=\"-304.8\" font-family=\"Times,serif\" font-size=\"14.00\" fill=\"#000000\">value = 25.987</text>\n</g>\n<!-- 1&#45;&gt;2 -->\n<g id=\"edge2\" class=\"edge\">\n<title>1&#45;&gt;2</title>\n<path fill=\"none\" stroke=\"#000000\" d=\"M657.393,-419.9886C592.0702,-401.1698 480.2318,-368.9504 410.5549,-348.8773\"/>\n<polygon fill=\"#000000\" stroke=\"#000000\" points=\"411.1693,-345.412 400.5912,-346.0069 409.2314,-352.1385 411.1693,-345.412\"/>\n</g>\n<!-- 11 -->\n<g id=\"node12\" class=\"node\">\n<title>11</title>\n<polygon fill=\"#eca36e\" stroke=\"#000000\" points=\"761.5,-365 657.5,-365 657.5,-297 761.5,-297 761.5,-365\"/>\n<text text-anchor=\"middle\" x=\"709.5\" y=\"-349.8\" font-family=\"Times,serif\" font-size=\"14.00\" fill=\"#000000\">RM &lt;= 7.435</text>\n<text text-anchor=\"middle\" x=\"709.5\" y=\"-334.8\" font-family=\"Times,serif\" font-size=\"14.00\" fill=\"#000000\">mse = 53.233</text>\n<text text-anchor=\"middle\" x=\"709.5\" y=\"-319.8\" font-family=\"Times,serif\" font-size=\"14.00\" fill=\"#000000\">samples = 49</text>\n<text text-anchor=\"middle\" x=\"709.5\" y=\"-304.8\" font-family=\"Times,serif\" font-size=\"14.00\" fill=\"#000000\">value = 39.192</text>\n</g>\n<!-- 1&#45;&gt;11 -->\n<g id=\"edge11\" class=\"edge\">\n<title>1&#45;&gt;11</title>\n<path fill=\"none\" stroke=\"#000000\" d=\"M709.5,-400.9465C709.5,-392.776 709.5,-383.9318 709.5,-375.3697\"/>\n<polygon fill=\"#000000\" stroke=\"#000000\" points=\"713.0001,-375.13 709.5,-365.13 706.0001,-375.13 713.0001,-375.13\"/>\n</g>\n<!-- 3 -->\n<g id=\"node4\" class=\"node\">\n<title>3</title>\n<polygon fill=\"#e58139\" stroke=\"#000000\" points=\"278,-253.5 189,-253.5 189,-200.5 278,-200.5 278,-253.5\"/>\n<text text-anchor=\"middle\" x=\"233.5\" y=\"-238.3\" font-family=\"Times,serif\" font-size=\"14.00\" fill=\"#000000\">mse = 0.0</text>\n<text text-anchor=\"middle\" x=\"233.5\" y=\"-223.3\" font-family=\"Times,serif\" font-size=\"14.00\" fill=\"#000000\">samples = 4</text>\n<text text-anchor=\"middle\" x=\"233.5\" y=\"-208.3\" font-family=\"Times,serif\" font-size=\"14.00\" fill=\"#000000\">value = 50.0</text>\n</g>\n<!-- 2&#45;&gt;3 -->\n<g id=\"edge3\" class=\"edge\">\n<title>2&#45;&gt;3</title>\n<path fill=\"none\" stroke=\"#000000\" d=\"M310.8447,-296.9465C297.8122,-285.1606 283.2294,-271.9726 270.2689,-260.2519\"/>\n<polygon fill=\"#000000\" stroke=\"#000000\" points=\"272.614,-257.6537 262.8495,-253.5422 267.9188,-262.8456 272.614,-257.6537\"/>\n</g>\n<!-- 4 -->\n<g id=\"node5\" class=\"node\">\n<title>4</title>\n<polygon fill=\"#f5ceb2\" stroke=\"#000000\" points=\"400.5,-261 296.5,-261 296.5,-193 400.5,-193 400.5,-261\"/>\n<text text-anchor=\"middle\" x=\"348.5\" y=\"-245.8\" font-family=\"Times,serif\" font-size=\"14.00\" fill=\"#000000\">RM &lt;= 6.543</text>\n<text text-anchor=\"middle\" x=\"348.5\" y=\"-230.8\" font-family=\"Times,serif\" font-size=\"14.00\" fill=\"#000000\">mse = 19.397</text>\n<text text-anchor=\"middle\" x=\"348.5\" y=\"-215.8\" font-family=\"Times,serif\" font-size=\"14.00\" fill=\"#000000\">samples = 137</text>\n<text text-anchor=\"middle\" x=\"348.5\" y=\"-200.8\" font-family=\"Times,serif\" font-size=\"14.00\" fill=\"#000000\">value = 25.286</text>\n</g>\n<!-- 2&#45;&gt;4 -->\n<g id=\"edge4\" class=\"edge\">\n<title>2&#45;&gt;4</title>\n<path fill=\"none\" stroke=\"#000000\" d=\"M348.5,-296.9465C348.5,-288.776 348.5,-279.9318 348.5,-271.3697\"/>\n<polygon fill=\"#000000\" stroke=\"#000000\" points=\"352.0001,-271.13 348.5,-261.13 345.0001,-271.13 352.0001,-271.13\"/>\n</g>\n<!-- 5 -->\n<g id=\"node6\" class=\"node\">\n<title>5</title>\n<polygon fill=\"#f6d5bd\" stroke=\"#000000\" points=\"219.5,-157 115.5,-157 115.5,-89 219.5,-89 219.5,-157\"/>\n<text text-anchor=\"middle\" x=\"167.5\" y=\"-141.8\" font-family=\"Times,serif\" font-size=\"14.00\" fill=\"#000000\">TAX &lt;= 222.5</text>\n<text text-anchor=\"middle\" x=\"167.5\" y=\"-126.8\" font-family=\"Times,serif\" font-size=\"14.00\" fill=\"#000000\">mse = 9.041</text>\n<text text-anchor=\"middle\" x=\"167.5\" y=\"-111.8\" font-family=\"Times,serif\" font-size=\"14.00\" fill=\"#000000\">samples = 79</text>\n<text text-anchor=\"middle\" x=\"167.5\" y=\"-96.8\" font-family=\"Times,serif\" font-size=\"14.00\" fill=\"#000000\">value = 22.991</text>\n</g>\n<!-- 4&#45;&gt;5 -->\n<g id=\"edge5\" class=\"edge\">\n<title>4&#45;&gt;5</title>\n<path fill=\"none\" stroke=\"#000000\" d=\"M296.1473,-196.9189C275.0417,-184.7919 250.5479,-170.7181 228.6315,-158.1253\"/>\n<polygon fill=\"#000000\" stroke=\"#000000\" points=\"230.1494,-154.9608 219.735,-153.0135 226.6619,-161.0303 230.1494,-154.9608\"/>\n</g>\n<!-- 8 -->\n<g id=\"node9\" class=\"node\">\n<title>8</title>\n<polygon fill=\"#f3c4a3\" stroke=\"#000000\" points=\"407.5,-157 289.5,-157 289.5,-89 407.5,-89 407.5,-157\"/>\n<text text-anchor=\"middle\" x=\"348.5\" y=\"-141.8\" font-family=\"Times,serif\" font-size=\"14.00\" fill=\"#000000\">LSTAT &lt;= 5.165</text>\n<text text-anchor=\"middle\" x=\"348.5\" y=\"-126.8\" font-family=\"Times,serif\" font-size=\"14.00\" fill=\"#000000\">mse = 16.558</text>\n<text text-anchor=\"middle\" x=\"348.5\" y=\"-111.8\" font-family=\"Times,serif\" font-size=\"14.00\" fill=\"#000000\">samples = 58</text>\n<text text-anchor=\"middle\" x=\"348.5\" y=\"-96.8\" font-family=\"Times,serif\" font-size=\"14.00\" fill=\"#000000\">value = 28.412</text>\n</g>\n<!-- 4&#45;&gt;8 -->\n<g id=\"edge8\" class=\"edge\">\n<title>4&#45;&gt;8</title>\n<path fill=\"none\" stroke=\"#000000\" d=\"M348.5,-192.9465C348.5,-184.776 348.5,-175.9318 348.5,-167.3697\"/>\n<polygon fill=\"#000000\" stroke=\"#000000\" points=\"352.0001,-167.13 348.5,-157.13 345.0001,-167.13 352.0001,-167.13\"/>\n</g>\n<!-- 6 -->\n<g id=\"node7\" class=\"node\">\n<title>6</title>\n<polygon fill=\"#f0b88f\" stroke=\"#000000\" points=\"97,-53 0,-53 0,0 97,0 97,-53\"/>\n<text text-anchor=\"middle\" x=\"48.5\" y=\"-37.8\" font-family=\"Times,serif\" font-size=\"14.00\" fill=\"#000000\">mse = 14.062</text>\n<text text-anchor=\"middle\" x=\"48.5\" y=\"-22.8\" font-family=\"Times,serif\" font-size=\"14.00\" fill=\"#000000\">samples = 2</text>\n<text text-anchor=\"middle\" x=\"48.5\" y=\"-7.8\" font-family=\"Times,serif\" font-size=\"14.00\" fill=\"#000000\">value = 32.45</text>\n</g>\n<!-- 5&#45;&gt;6 -->\n<g id=\"edge6\" class=\"edge\">\n<title>5&#45;&gt;6</title>\n<path fill=\"none\" stroke=\"#000000\" d=\"M125.5451,-88.9777C113.8014,-79.4545 101.0562,-69.1191 89.376,-59.6473\"/>\n<polygon fill=\"#000000\" stroke=\"#000000\" points=\"91.4568,-56.8286 81.4852,-53.2485 87.0478,-62.2656 91.4568,-56.8286\"/>\n</g>\n<!-- 7 -->\n<g id=\"node8\" class=\"node\">\n<title>7</title>\n<polygon fill=\"#f7d6be\" stroke=\"#000000\" points=\"219.5,-53 115.5,-53 115.5,0 219.5,0 219.5,-53\"/>\n<text text-anchor=\"middle\" x=\"167.5\" y=\"-37.8\" font-family=\"Times,serif\" font-size=\"14.00\" fill=\"#000000\">mse = 6.526</text>\n<text text-anchor=\"middle\" x=\"167.5\" y=\"-22.8\" font-family=\"Times,serif\" font-size=\"14.00\" fill=\"#000000\">samples = 77</text>\n<text text-anchor=\"middle\" x=\"167.5\" y=\"-7.8\" font-family=\"Times,serif\" font-size=\"14.00\" fill=\"#000000\">value = 22.745</text>\n</g>\n<!-- 5&#45;&gt;7 -->\n<g id=\"edge7\" class=\"edge\">\n<title>5&#45;&gt;7</title>\n<path fill=\"none\" stroke=\"#000000\" d=\"M167.5,-88.9777C167.5,-80.7364 167.5,-71.887 167.5,-63.5153\"/>\n<polygon fill=\"#000000\" stroke=\"#000000\" points=\"171.0001,-63.2484 167.5,-53.2485 164.0001,-63.2485 171.0001,-63.2484\"/>\n</g>\n<!-- 9 -->\n<g id=\"node10\" class=\"node\">\n<title>9</title>\n<polygon fill=\"#f1bb95\" stroke=\"#000000\" points=\"341.5,-53 237.5,-53 237.5,0 341.5,0 341.5,-53\"/>\n<text text-anchor=\"middle\" x=\"289.5\" y=\"-37.8\" font-family=\"Times,serif\" font-size=\"14.00\" fill=\"#000000\">mse = 15.413</text>\n<text text-anchor=\"middle\" x=\"289.5\" y=\"-22.8\" font-family=\"Times,serif\" font-size=\"14.00\" fill=\"#000000\">samples = 24</text>\n<text text-anchor=\"middle\" x=\"289.5\" y=\"-7.8\" font-family=\"Times,serif\" font-size=\"14.00\" fill=\"#000000\">value = 31.275</text>\n</g>\n<!-- 8&#45;&gt;9 -->\n<g id=\"edge9\" class=\"edge\">\n<title>8&#45;&gt;9</title>\n<path fill=\"none\" stroke=\"#000000\" d=\"M327.6988,-88.9777C322.3242,-80.187 316.5265,-70.7044 311.1115,-61.8477\"/>\n<polygon fill=\"#000000\" stroke=\"#000000\" points=\"314.0564,-59.9545 305.854,-53.2485 308.0842,-63.6059 314.0564,-59.9545\"/>\n</g>\n<!-- 10 -->\n<g id=\"node11\" class=\"node\">\n<title>10</title>\n<polygon fill=\"#f4cbad\" stroke=\"#000000\" points=\"463.5,-53 359.5,-53 359.5,0 463.5,0 463.5,-53\"/>\n<text text-anchor=\"middle\" x=\"411.5\" y=\"-37.8\" font-family=\"Times,serif\" font-size=\"14.00\" fill=\"#000000\">mse = 7.497</text>\n<text text-anchor=\"middle\" x=\"411.5\" y=\"-22.8\" font-family=\"Times,serif\" font-size=\"14.00\" fill=\"#000000\">samples = 34</text>\n<text text-anchor=\"middle\" x=\"411.5\" y=\"-7.8\" font-family=\"Times,serif\" font-size=\"14.00\" fill=\"#000000\">value = 26.391</text>\n</g>\n<!-- 8&#45;&gt;10 -->\n<g id=\"edge10\" class=\"edge\">\n<title>8&#45;&gt;10</title>\n<path fill=\"none\" stroke=\"#000000\" d=\"M370.7114,-88.9777C376.4504,-80.187 382.6412,-70.7044 388.4233,-61.8477\"/>\n<polygon fill=\"#000000\" stroke=\"#000000\" points=\"391.5013,-63.5354 394.0373,-53.2485 385.6398,-59.7087 391.5013,-63.5354\"/>\n</g>\n<!-- 12 -->\n<g id=\"node13\" class=\"node\">\n<title>12</title>\n<polygon fill=\"#efb286\" stroke=\"#000000\" points=\"698.5,-261 594.5,-261 594.5,-193 698.5,-193 698.5,-261\"/>\n<text text-anchor=\"middle\" x=\"646.5\" y=\"-245.8\" font-family=\"Times,serif\" font-size=\"14.00\" fill=\"#000000\">TAX &lt;= 534.0</text>\n<text text-anchor=\"middle\" x=\"646.5\" y=\"-230.8\" font-family=\"Times,serif\" font-size=\"14.00\" fill=\"#000000\">mse = 15.928</text>\n<text text-anchor=\"middle\" x=\"646.5\" y=\"-215.8\" font-family=\"Times,serif\" font-size=\"14.00\" fill=\"#000000\">samples = 25</text>\n<text text-anchor=\"middle\" x=\"646.5\" y=\"-200.8\" font-family=\"Times,serif\" font-size=\"14.00\" fill=\"#000000\">value = 34.292</text>\n</g>\n<!-- 11&#45;&gt;12 -->\n<g id=\"edge12\" class=\"edge\">\n<title>11&#45;&gt;12</title>\n<path fill=\"none\" stroke=\"#000000\" d=\"M688.8714,-296.9465C683.6501,-288.3271 677.9745,-278.9579 672.5245,-269.9611\"/>\n<polygon fill=\"#000000\" stroke=\"#000000\" points=\"675.3497,-267.8697 667.1749,-261.13 669.3626,-271.4965 675.3497,-267.8697\"/>\n</g>\n<!-- 17 -->\n<g id=\"node18\" class=\"node\">\n<title>17</title>\n<polygon fill=\"#e99355\" stroke=\"#000000\" points=\"828,-261 717,-261 717,-193 828,-193 828,-261\"/>\n<text text-anchor=\"middle\" x=\"772.5\" y=\"-245.8\" font-family=\"Times,serif\" font-size=\"14.00\" fill=\"#000000\">CRIM &lt;= 2.742</text>\n<text text-anchor=\"middle\" x=\"772.5\" y=\"-230.8\" font-family=\"Times,serif\" font-size=\"14.00\" fill=\"#000000\">mse = 41.033</text>\n<text text-anchor=\"middle\" x=\"772.5\" y=\"-215.8\" font-family=\"Times,serif\" font-size=\"14.00\" fill=\"#000000\">samples = 24</text>\n<text text-anchor=\"middle\" x=\"772.5\" y=\"-200.8\" font-family=\"Times,serif\" font-size=\"14.00\" fill=\"#000000\">value = 44.296</text>\n</g>\n<!-- 11&#45;&gt;17 -->\n<g id=\"edge17\" class=\"edge\">\n<title>11&#45;&gt;17</title>\n<path fill=\"none\" stroke=\"#000000\" d=\"M730.1286,-296.9465C735.3499,-288.3271 741.0255,-278.9579 746.4755,-269.9611\"/>\n<polygon fill=\"#000000\" stroke=\"#000000\" points=\"749.6374,-271.4965 751.8251,-261.13 743.6503,-267.8697 749.6374,-271.4965\"/>\n</g>\n<!-- 13 -->\n<g id=\"node14\" class=\"node\">\n<title>13</title>\n<polygon fill=\"#f0b489\" stroke=\"#000000\" points=\"583.5,-157 479.5,-157 479.5,-89 583.5,-89 583.5,-157\"/>\n<text text-anchor=\"middle\" x=\"531.5\" y=\"-141.8\" font-family=\"Times,serif\" font-size=\"14.00\" fill=\"#000000\">TAX &lt;= 267.0</text>\n<text text-anchor=\"middle\" x=\"531.5\" y=\"-126.8\" font-family=\"Times,serif\" font-size=\"14.00\" fill=\"#000000\">mse = 5.882</text>\n<text text-anchor=\"middle\" x=\"531.5\" y=\"-111.8\" font-family=\"Times,serif\" font-size=\"14.00\" fill=\"#000000\">samples = 24</text>\n<text text-anchor=\"middle\" x=\"531.5\" y=\"-96.8\" font-family=\"Times,serif\" font-size=\"14.00\" fill=\"#000000\">value = 33.638</text>\n</g>\n<!-- 12&#45;&gt;13 -->\n<g id=\"edge13\" class=\"edge\">\n<title>12&#45;&gt;13</title>\n<path fill=\"none\" stroke=\"#000000\" d=\"M608.8447,-192.9465C598.6187,-183.6986 587.4382,-173.5876 576.8359,-163.9994\"/>\n<polygon fill=\"#000000\" stroke=\"#000000\" points=\"579.0044,-161.2416 569.2399,-157.13 574.3092,-166.4334 579.0044,-161.2416\"/>\n</g>\n<!-- 16 -->\n<g id=\"node17\" class=\"node\">\n<title>16</title>\n<polygon fill=\"#e58139\" stroke=\"#000000\" points=\"691,-149.5 602,-149.5 602,-96.5 691,-96.5 691,-149.5\"/>\n<text text-anchor=\"middle\" x=\"646.5\" y=\"-134.3\" font-family=\"Times,serif\" font-size=\"14.00\" fill=\"#000000\">mse = 0.0</text>\n<text text-anchor=\"middle\" x=\"646.5\" y=\"-119.3\" font-family=\"Times,serif\" font-size=\"14.00\" fill=\"#000000\">samples = 1</text>\n<text text-anchor=\"middle\" x=\"646.5\" y=\"-104.3\" font-family=\"Times,serif\" font-size=\"14.00\" fill=\"#000000\">value = 50.0</text>\n</g>\n<!-- 12&#45;&gt;16 -->\n<g id=\"edge16\" class=\"edge\">\n<title>12&#45;&gt;16</title>\n<path fill=\"none\" stroke=\"#000000\" d=\"M646.5,-192.9465C646.5,-182.2621 646.5,-170.4254 646.5,-159.5742\"/>\n<polygon fill=\"#000000\" stroke=\"#000000\" points=\"650.0001,-159.5421 646.5,-149.5422 643.0001,-159.5422 650.0001,-159.5421\"/>\n</g>\n<!-- 14 -->\n<g id=\"node15\" class=\"node\">\n<title>14</title>\n<polygon fill=\"#eeae80\" stroke=\"#000000\" points=\"579,-53 482,-53 482,0 579,0 579,-53\"/>\n<text text-anchor=\"middle\" x=\"530.5\" y=\"-37.8\" font-family=\"Times,serif\" font-size=\"14.00\" fill=\"#000000\">mse = 2.56</text>\n<text text-anchor=\"middle\" x=\"530.5\" y=\"-22.8\" font-family=\"Times,serif\" font-size=\"14.00\" fill=\"#000000\">samples = 10</text>\n<text text-anchor=\"middle\" x=\"530.5\" y=\"-7.8\" font-family=\"Times,serif\" font-size=\"14.00\" fill=\"#000000\">value = 35.43</text>\n</g>\n<!-- 13&#45;&gt;14 -->\n<g id=\"edge14\" class=\"edge\">\n<title>13&#45;&gt;14</title>\n<path fill=\"none\" stroke=\"#000000\" d=\"M531.1474,-88.9777C531.062,-80.7364 530.9703,-71.887 530.8836,-63.5153\"/>\n<polygon fill=\"#000000\" stroke=\"#000000\" points=\"534.3807,-63.2116 530.7772,-53.2485 527.3811,-63.2842 534.3807,-63.2116\"/>\n</g>\n<!-- 15 -->\n<g id=\"node16\" class=\"node\">\n<title>15</title>\n<polygon fill=\"#f0b88f\" stroke=\"#000000\" points=\"701.5,-53 597.5,-53 597.5,0 701.5,0 701.5,-53\"/>\n<text text-anchor=\"middle\" x=\"649.5\" y=\"-37.8\" font-family=\"Times,serif\" font-size=\"14.00\" fill=\"#000000\">mse = 4.321</text>\n<text text-anchor=\"middle\" x=\"649.5\" y=\"-22.8\" font-family=\"Times,serif\" font-size=\"14.00\" fill=\"#000000\">samples = 14</text>\n<text text-anchor=\"middle\" x=\"649.5\" y=\"-7.8\" font-family=\"Times,serif\" font-size=\"14.00\" fill=\"#000000\">value = 32.357</text>\n</g>\n<!-- 13&#45;&gt;15 -->\n<g id=\"edge15\" class=\"edge\">\n<title>13&#45;&gt;15</title>\n<path fill=\"none\" stroke=\"#000000\" d=\"M573.1024,-88.9777C584.7474,-79.4545 597.3854,-69.1191 608.9675,-59.6473\"/>\n<polygon fill=\"#000000\" stroke=\"#000000\" points=\"611.2667,-62.2885 616.792,-53.2485 606.8352,-56.8697 611.2667,-62.2885\"/>\n</g>\n<!-- 18 -->\n<g id=\"node19\" class=\"node\">\n<title>18</title>\n<polygon fill=\"#e89050\" stroke=\"#000000\" points=\"836,-157 709,-157 709,-89 836,-89 836,-157\"/>\n<text text-anchor=\"middle\" x=\"772.5\" y=\"-141.8\" font-family=\"Times,serif\" font-size=\"14.00\" fill=\"#000000\">PTRATIO &lt;= 17.9</text>\n<text text-anchor=\"middle\" x=\"772.5\" y=\"-126.8\" font-family=\"Times,serif\" font-size=\"14.00\" fill=\"#000000\">mse = 20.061</text>\n<text text-anchor=\"middle\" x=\"772.5\" y=\"-111.8\" font-family=\"Times,serif\" font-size=\"14.00\" fill=\"#000000\">samples = 23</text>\n<text text-anchor=\"middle\" x=\"772.5\" y=\"-96.8\" font-family=\"Times,serif\" font-size=\"14.00\" fill=\"#000000\">value = 45.27</text>\n</g>\n<!-- 17&#45;&gt;18 -->\n<g id=\"edge18\" class=\"edge\">\n<title>17&#45;&gt;18</title>\n<path fill=\"none\" stroke=\"#000000\" d=\"M772.5,-192.9465C772.5,-184.776 772.5,-175.9318 772.5,-167.3697\"/>\n<polygon fill=\"#000000\" stroke=\"#000000\" points=\"776.0001,-167.13 772.5,-157.13 769.0001,-167.13 776.0001,-167.13\"/>\n</g>\n<!-- 21 -->\n<g id=\"node22\" class=\"node\">\n<title>21</title>\n<polygon fill=\"#f7d9c3\" stroke=\"#000000\" points=\"943,-149.5 854,-149.5 854,-96.5 943,-96.5 943,-149.5\"/>\n<text text-anchor=\"middle\" x=\"898.5\" y=\"-134.3\" font-family=\"Times,serif\" font-size=\"14.00\" fill=\"#000000\">mse = 0.0</text>\n<text text-anchor=\"middle\" x=\"898.5\" y=\"-119.3\" font-family=\"Times,serif\" font-size=\"14.00\" fill=\"#000000\">samples = 1</text>\n<text text-anchor=\"middle\" x=\"898.5\" y=\"-104.3\" font-family=\"Times,serif\" font-size=\"14.00\" fill=\"#000000\">value = 21.9</text>\n</g>\n<!-- 17&#45;&gt;21 -->\n<g id=\"edge21\" class=\"edge\">\n<title>17&#45;&gt;21</title>\n<path fill=\"none\" stroke=\"#000000\" d=\"M813.7571,-192.9465C828.1697,-181.0504 844.3127,-167.726 858.6117,-155.9237\"/>\n<polygon fill=\"#000000\" stroke=\"#000000\" points=\"860.8589,-158.6071 866.3431,-149.5422 856.4029,-153.2086 860.8589,-158.6071\"/>\n</g>\n<!-- 19 -->\n<g id=\"node20\" class=\"node\">\n<title>19</title>\n<polygon fill=\"#e78d4b\" stroke=\"#000000\" points=\"823.5,-53 719.5,-53 719.5,0 823.5,0 823.5,-53\"/>\n<text text-anchor=\"middle\" x=\"771.5\" y=\"-37.8\" font-family=\"Times,serif\" font-size=\"14.00\" fill=\"#000000\">mse = 14.625</text>\n<text text-anchor=\"middle\" x=\"771.5\" y=\"-22.8\" font-family=\"Times,serif\" font-size=\"14.00\" fill=\"#000000\">samples = 20</text>\n<text text-anchor=\"middle\" x=\"771.5\" y=\"-7.8\" font-family=\"Times,serif\" font-size=\"14.00\" fill=\"#000000\">value = 46.225</text>\n</g>\n<!-- 18&#45;&gt;19 -->\n<g id=\"edge19\" class=\"edge\">\n<title>18&#45;&gt;19</title>\n<path fill=\"none\" stroke=\"#000000\" d=\"M772.1474,-88.9777C772.062,-80.7364 771.9703,-71.887 771.8836,-63.5153\"/>\n<polygon fill=\"#000000\" stroke=\"#000000\" points=\"775.3807,-63.2116 771.7772,-53.2485 768.3811,-63.2842 775.3807,-63.2116\"/>\n</g>\n<!-- 20 -->\n<g id=\"node21\" class=\"node\">\n<title>20</title>\n<polygon fill=\"#eca46f\" stroke=\"#000000\" points=\"931,-53 842,-53 842,0 931,0 931,-53\"/>\n<text text-anchor=\"middle\" x=\"886.5\" y=\"-37.8\" font-family=\"Times,serif\" font-size=\"14.00\" fill=\"#000000\">mse = 9.647</text>\n<text text-anchor=\"middle\" x=\"886.5\" y=\"-22.8\" font-family=\"Times,serif\" font-size=\"14.00\" fill=\"#000000\">samples = 3</text>\n<text text-anchor=\"middle\" x=\"886.5\" y=\"-7.8\" font-family=\"Times,serif\" font-size=\"14.00\" fill=\"#000000\">value = 38.9</text>\n</g>\n<!-- 18&#45;&gt;20 -->\n<g id=\"edge20\" class=\"edge\">\n<title>18&#45;&gt;20</title>\n<path fill=\"none\" stroke=\"#000000\" d=\"M812.6921,-88.9777C823.8342,-79.546 835.9173,-69.3178 847.0185,-59.9208\"/>\n<polygon fill=\"#000000\" stroke=\"#000000\" points=\"849.5295,-62.3809 854.9008,-53.2485 845.0068,-57.038 849.5295,-62.3809\"/>\n</g>\n<!-- 23 -->\n<g id=\"node24\" class=\"node\">\n<title>23</title>\n<polygon fill=\"#f8dcc8\" stroke=\"#000000\" points=\"1237.5,-365 1133.5,-365 1133.5,-297 1237.5,-297 1237.5,-365\"/>\n<text text-anchor=\"middle\" x=\"1185.5\" y=\"-349.8\" font-family=\"Times,serif\" font-size=\"14.00\" fill=\"#000000\">RM &lt;= 6.797</text>\n<text text-anchor=\"middle\" x=\"1185.5\" y=\"-334.8\" font-family=\"Times,serif\" font-size=\"14.00\" fill=\"#000000\">mse = 9.911</text>\n<text text-anchor=\"middle\" x=\"1185.5\" y=\"-319.8\" font-family=\"Times,serif\" font-size=\"14.00\" fill=\"#000000\">samples = 120</text>\n<text text-anchor=\"middle\" x=\"1185.5\" y=\"-304.8\" font-family=\"Times,serif\" font-size=\"14.00\" fill=\"#000000\">value = 20.765</text>\n</g>\n<!-- 22&#45;&gt;23 -->\n<g id=\"edge23\" class=\"edge\">\n<title>22&#45;&gt;23</title>\n<path fill=\"none\" stroke=\"#000000\" d=\"M1185.5,-400.9465C1185.5,-392.776 1185.5,-383.9318 1185.5,-375.3697\"/>\n<polygon fill=\"#000000\" stroke=\"#000000\" points=\"1189.0001,-375.13 1185.5,-365.13 1182.0001,-375.13 1189.0001,-375.13\"/>\n</g>\n<!-- 34 -->\n<g id=\"node35\" class=\"node\">\n<title>34</title>\n<polygon fill=\"#fcf0e7\" stroke=\"#000000\" points=\"1704.5,-365 1598.5,-365 1598.5,-297 1704.5,-297 1704.5,-365\"/>\n<text text-anchor=\"middle\" x=\"1651.5\" y=\"-349.8\" font-family=\"Times,serif\" font-size=\"14.00\" fill=\"#000000\">NOX &lt;= 0.603</text>\n<text text-anchor=\"middle\" x=\"1651.5\" y=\"-334.8\" font-family=\"Times,serif\" font-size=\"14.00\" fill=\"#000000\">mse = 19.187</text>\n<text text-anchor=\"middle\" x=\"1651.5\" y=\"-319.8\" font-family=\"Times,serif\" font-size=\"14.00\" fill=\"#000000\">samples = 145</text>\n<text text-anchor=\"middle\" x=\"1651.5\" y=\"-304.8\" font-family=\"Times,serif\" font-size=\"14.00\" fill=\"#000000\">value = 14.423</text>\n</g>\n<!-- 22&#45;&gt;34 -->\n<g id=\"edge34\" class=\"edge\">\n<title>22&#45;&gt;34</title>\n<path fill=\"none\" stroke=\"#000000\" d=\"M1240.7863,-422.6614C1327.9286,-403.2134 1496.7232,-365.5425 1588.4544,-345.0703\"/>\n<polygon fill=\"#000000\" stroke=\"#000000\" points=\"1589.4399,-348.4365 1598.4374,-342.8423 1587.9151,-341.6046 1589.4399,-348.4365\"/>\n</g>\n<!-- 24 -->\n<g id=\"node25\" class=\"node\">\n<title>24</title>\n<polygon fill=\"#f8ddc9\" stroke=\"#000000\" points=\"1172.5,-261 1068.5,-261 1068.5,-193 1172.5,-193 1172.5,-261\"/>\n<text text-anchor=\"middle\" x=\"1120.5\" y=\"-245.8\" font-family=\"Times,serif\" font-size=\"14.00\" fill=\"#000000\">B &lt;= 44.81</text>\n<text text-anchor=\"middle\" x=\"1120.5\" y=\"-230.8\" font-family=\"Times,serif\" font-size=\"14.00\" fill=\"#000000\">mse = 7.153</text>\n<text text-anchor=\"middle\" x=\"1120.5\" y=\"-215.8\" font-family=\"Times,serif\" font-size=\"14.00\" fill=\"#000000\">samples = 114</text>\n<text text-anchor=\"middle\" x=\"1120.5\" y=\"-200.8\" font-family=\"Times,serif\" font-size=\"14.00\" fill=\"#000000\">value = 20.489</text>\n</g>\n<!-- 23&#45;&gt;24 -->\n<g id=\"edge24\" class=\"edge\">\n<title>23&#45;&gt;24</title>\n<path fill=\"none\" stroke=\"#000000\" d=\"M1164.2166,-296.9465C1158.7733,-288.2373 1152.8516,-278.7626 1147.175,-269.6801\"/>\n<polygon fill=\"#000000\" stroke=\"#000000\" points=\"1150.0993,-267.755 1141.8312,-261.13 1144.1633,-271.465 1150.0993,-267.755\"/>\n</g>\n<!-- 29 -->\n<g id=\"node30\" class=\"node\">\n<title>29</title>\n<polygon fill=\"#f4ccaf\" stroke=\"#000000\" points=\"1310,-261 1191,-261 1191,-193 1310,-193 1310,-261\"/>\n<text text-anchor=\"middle\" x=\"1250.5\" y=\"-245.8\" font-family=\"Times,serif\" font-size=\"14.00\" fill=\"#000000\">CRIM &lt;= 12.128</text>\n<text text-anchor=\"middle\" x=\"1250.5\" y=\"-230.8\" font-family=\"Times,serif\" font-size=\"14.00\" fill=\"#000000\">mse = 33.463</text>\n<text text-anchor=\"middle\" x=\"1250.5\" y=\"-215.8\" font-family=\"Times,serif\" font-size=\"14.00\" fill=\"#000000\">samples = 6</text>\n<text text-anchor=\"middle\" x=\"1250.5\" y=\"-200.8\" font-family=\"Times,serif\" font-size=\"14.00\" fill=\"#000000\">value = 26.0</text>\n</g>\n<!-- 23&#45;&gt;29 -->\n<g id=\"edge29\" class=\"edge\">\n<title>23&#45;&gt;29</title>\n<path fill=\"none\" stroke=\"#000000\" d=\"M1206.7834,-296.9465C1212.2267,-288.2373 1218.1484,-278.7626 1223.825,-269.6801\"/>\n<polygon fill=\"#000000\" stroke=\"#000000\" points=\"1226.8367,-271.465 1229.1688,-261.13 1220.9007,-267.755 1226.8367,-271.465\"/>\n</g>\n<!-- 25 -->\n<g id=\"node26\" class=\"node\">\n<title>25</title>\n<polygon fill=\"#fefbf8\" stroke=\"#000000\" points=\"1052,-149.5 963,-149.5 963,-96.5 1052,-96.5 1052,-149.5\"/>\n<text text-anchor=\"middle\" x=\"1007.5\" y=\"-134.3\" font-family=\"Times,serif\" font-size=\"14.00\" fill=\"#000000\">mse = 0.0</text>\n<text text-anchor=\"middle\" x=\"1007.5\" y=\"-119.3\" font-family=\"Times,serif\" font-size=\"14.00\" fill=\"#000000\">samples = 1</text>\n<text text-anchor=\"middle\" x=\"1007.5\" y=\"-104.3\" font-family=\"Times,serif\" font-size=\"14.00\" fill=\"#000000\">value = 10.9</text>\n</g>\n<!-- 24&#45;&gt;25 -->\n<g id=\"edge25\" class=\"edge\">\n<title>24&#45;&gt;25</title>\n<path fill=\"none\" stroke=\"#000000\" d=\"M1083.4996,-192.9465C1070.8134,-181.2707 1056.6322,-168.219 1043.987,-156.5809\"/>\n<polygon fill=\"#000000\" stroke=\"#000000\" points=\"1046.0673,-153.7389 1036.3391,-149.5422 1041.3269,-158.8895 1046.0673,-153.7389\"/>\n</g>\n<!-- 26 -->\n<g id=\"node27\" class=\"node\">\n<title>26</title>\n<polygon fill=\"#f8ddc9\" stroke=\"#000000\" points=\"1174.5,-157 1070.5,-157 1070.5,-89 1174.5,-89 1174.5,-157\"/>\n<text text-anchor=\"middle\" x=\"1122.5\" y=\"-141.8\" font-family=\"Times,serif\" font-size=\"14.00\" fill=\"#000000\">DIS &lt;= 4.442</text>\n<text text-anchor=\"middle\" x=\"1122.5\" y=\"-126.8\" font-family=\"Times,serif\" font-size=\"14.00\" fill=\"#000000\">mse = 6.396</text>\n<text text-anchor=\"middle\" x=\"1122.5\" y=\"-111.8\" font-family=\"Times,serif\" font-size=\"14.00\" fill=\"#000000\">samples = 113</text>\n<text text-anchor=\"middle\" x=\"1122.5\" y=\"-96.8\" font-family=\"Times,serif\" font-size=\"14.00\" fill=\"#000000\">value = 20.574</text>\n</g>\n<!-- 24&#45;&gt;26 -->\n<g id=\"edge26\" class=\"edge\">\n<title>24&#45;&gt;26</title>\n<path fill=\"none\" stroke=\"#000000\" d=\"M1121.1549,-192.9465C1121.312,-184.776 1121.4821,-175.9318 1121.6467,-167.3697\"/>\n<polygon fill=\"#000000\" stroke=\"#000000\" points=\"1125.1506,-167.1955 1121.8437,-157.13 1118.1519,-167.0608 1125.1506,-167.1955\"/>\n</g>\n<!-- 27 -->\n<g id=\"node28\" class=\"node\">\n<title>27</title>\n<polygon fill=\"#f8dbc7\" stroke=\"#000000\" points=\"1053.5,-53 949.5,-53 949.5,0 1053.5,0 1053.5,-53\"/>\n<text text-anchor=\"middle\" x=\"1001.5\" y=\"-37.8\" font-family=\"Times,serif\" font-size=\"14.00\" fill=\"#000000\">mse = 6.687</text>\n<text text-anchor=\"middle\" x=\"1001.5\" y=\"-22.8\" font-family=\"Times,serif\" font-size=\"14.00\" fill=\"#000000\">samples = 86</text>\n<text text-anchor=\"middle\" x=\"1001.5\" y=\"-7.8\" font-family=\"Times,serif\" font-size=\"14.00\" fill=\"#000000\">value = 21.022</text>\n</g>\n<!-- 26&#45;&gt;27 -->\n<g id=\"edge27\" class=\"edge\">\n<title>26&#45;&gt;27</title>\n<path fill=\"none\" stroke=\"#000000\" d=\"M1079.8399,-88.9777C1067.8989,-79.4545 1054.9395,-69.1191 1043.063,-59.6473\"/>\n<polygon fill=\"#000000\" stroke=\"#000000\" points=\"1045.04,-56.7473 1035.0395,-53.2485 1040.6754,-62.22 1045.04,-56.7473\"/>\n</g>\n<!-- 28 -->\n<g id=\"node29\" class=\"node\">\n<title>28</title>\n<polygon fill=\"#f9e1d0\" stroke=\"#000000\" points=\"1175.5,-53 1071.5,-53 1071.5,0 1175.5,0 1175.5,-53\"/>\n<text text-anchor=\"middle\" x=\"1123.5\" y=\"-37.8\" font-family=\"Times,serif\" font-size=\"14.00\" fill=\"#000000\">mse = 2.795</text>\n<text text-anchor=\"middle\" x=\"1123.5\" y=\"-22.8\" font-family=\"Times,serif\" font-size=\"14.00\" fill=\"#000000\">samples = 27</text>\n<text text-anchor=\"middle\" x=\"1123.5\" y=\"-7.8\" font-family=\"Times,serif\" font-size=\"14.00\" fill=\"#000000\">value = 19.148</text>\n</g>\n<!-- 26&#45;&gt;28 -->\n<g id=\"edge28\" class=\"edge\">\n<title>26&#45;&gt;28</title>\n<path fill=\"none\" stroke=\"#000000\" d=\"M1122.8526,-88.9777C1122.938,-80.7364 1123.0297,-71.887 1123.1164,-63.5153\"/>\n<polygon fill=\"#000000\" stroke=\"#000000\" points=\"1126.6189,-63.2842 1123.2228,-53.2485 1119.6193,-63.2116 1126.6189,-63.2842\"/>\n</g>\n<!-- 30 -->\n<g id=\"node31\" class=\"node\">\n<title>30</title>\n<polygon fill=\"#f3c5a4\" stroke=\"#000000\" points=\"1305,-157 1194,-157 1194,-89 1305,-89 1305,-157\"/>\n<text text-anchor=\"middle\" x=\"1249.5\" y=\"-141.8\" font-family=\"Times,serif\" font-size=\"14.00\" fill=\"#000000\">CRIM &lt;= 0.368</text>\n<text text-anchor=\"middle\" x=\"1249.5\" y=\"-126.8\" font-family=\"Times,serif\" font-size=\"14.00\" fill=\"#000000\">mse = 11.116</text>\n<text text-anchor=\"middle\" x=\"1249.5\" y=\"-111.8\" font-family=\"Times,serif\" font-size=\"14.00\" fill=\"#000000\">samples = 5</text>\n<text text-anchor=\"middle\" x=\"1249.5\" y=\"-96.8\" font-family=\"Times,serif\" font-size=\"14.00\" fill=\"#000000\">value = 28.2</text>\n</g>\n<!-- 29&#45;&gt;30 -->\n<g id=\"edge30\" class=\"edge\">\n<title>29&#45;&gt;30</title>\n<path fill=\"none\" stroke=\"#000000\" d=\"M1250.1726,-192.9465C1250.094,-184.776 1250.009,-175.9318 1249.9266,-167.3697\"/>\n<polygon fill=\"#000000\" stroke=\"#000000\" points=\"1253.4243,-167.0958 1249.8282,-157.13 1246.4246,-167.1632 1253.4243,-167.0958\"/>\n</g>\n<!-- 33 -->\n<g id=\"node34\" class=\"node\">\n<title>33</title>\n<polygon fill=\"#fceee4\" stroke=\"#000000\" points=\"1412,-149.5 1323,-149.5 1323,-96.5 1412,-96.5 1412,-149.5\"/>\n<text text-anchor=\"middle\" x=\"1367.5\" y=\"-134.3\" font-family=\"Times,serif\" font-size=\"14.00\" fill=\"#000000\">mse = 0.0</text>\n<text text-anchor=\"middle\" x=\"1367.5\" y=\"-119.3\" font-family=\"Times,serif\" font-size=\"14.00\" fill=\"#000000\">samples = 1</text>\n<text text-anchor=\"middle\" x=\"1367.5\" y=\"-104.3\" font-family=\"Times,serif\" font-size=\"14.00\" fill=\"#000000\">value = 15.0</text>\n</g>\n<!-- 29&#45;&gt;33 -->\n<g id=\"edge33\" class=\"edge\">\n<title>29&#45;&gt;33</title>\n<path fill=\"none\" stroke=\"#000000\" d=\"M1288.8102,-192.9465C1302.0694,-181.1606 1316.9058,-167.9726 1330.0916,-156.2519\"/>\n<polygon fill=\"#000000\" stroke=\"#000000\" points=\"1332.4912,-158.8018 1337.6401,-149.5422 1327.8407,-153.5699 1332.4912,-158.8018\"/>\n</g>\n<!-- 31 -->\n<g id=\"node32\" class=\"node\">\n<title>31</title>\n<polygon fill=\"#f7d8c2\" stroke=\"#000000\" points=\"1283,-53 1194,-53 1194,0 1283,0 1283,-53\"/>\n<text text-anchor=\"middle\" x=\"1238.5\" y=\"-37.8\" font-family=\"Times,serif\" font-size=\"14.00\" fill=\"#000000\">mse = 0.0</text>\n<text text-anchor=\"middle\" x=\"1238.5\" y=\"-22.8\" font-family=\"Times,serif\" font-size=\"14.00\" fill=\"#000000\">samples = 1</text>\n<text text-anchor=\"middle\" x=\"1238.5\" y=\"-7.8\" font-family=\"Times,serif\" font-size=\"14.00\" fill=\"#000000\">value = 22.0</text>\n</g>\n<!-- 30&#45;&gt;31 -->\n<g id=\"edge31\" class=\"edge\">\n<title>30&#45;&gt;31</title>\n<path fill=\"none\" stroke=\"#000000\" d=\"M1245.6218,-88.9777C1244.672,-80.6449 1243.6512,-71.6903 1242.6876,-63.2364\"/>\n<polygon fill=\"#000000\" stroke=\"#000000\" points=\"1246.1592,-62.7877 1241.549,-53.2485 1239.2042,-63.5806 1246.1592,-62.7877\"/>\n</g>\n<!-- 32 -->\n<g id=\"node33\" class=\"node\">\n<title>32</title>\n<polygon fill=\"#f2c09c\" stroke=\"#000000\" points=\"1398,-53 1301,-53 1301,0 1398,0 1398,-53\"/>\n<text text-anchor=\"middle\" x=\"1349.5\" y=\"-37.8\" font-family=\"Times,serif\" font-size=\"14.00\" fill=\"#000000\">mse = 1.882</text>\n<text text-anchor=\"middle\" x=\"1349.5\" y=\"-22.8\" font-family=\"Times,serif\" font-size=\"14.00\" fill=\"#000000\">samples = 4</text>\n<text text-anchor=\"middle\" x=\"1349.5\" y=\"-7.8\" font-family=\"Times,serif\" font-size=\"14.00\" fill=\"#000000\">value = 29.75</text>\n</g>\n<!-- 30&#45;&gt;32 -->\n<g id=\"edge32\" class=\"edge\">\n<title>30&#45;&gt;32</title>\n<path fill=\"none\" stroke=\"#000000\" d=\"M1284.7563,-88.9777C1294.4351,-79.6376 1304.9235,-69.5163 1314.5832,-60.1947\"/>\n<polygon fill=\"#000000\" stroke=\"#000000\" points=\"1317.0159,-62.7111 1321.7814,-53.2485 1312.1551,-57.674 1317.0159,-62.7111\"/>\n</g>\n<!-- 35 -->\n<g id=\"node36\" class=\"node\">\n<title>35</title>\n<polygon fill=\"#fae6d7\" stroke=\"#000000\" points=\"1707,-261 1596,-261 1596,-193 1707,-193 1707,-261\"/>\n<text text-anchor=\"middle\" x=\"1651.5\" y=\"-245.8\" font-family=\"Times,serif\" font-size=\"14.00\" fill=\"#000000\">CRIM &lt;= 0.579</text>\n<text text-anchor=\"middle\" x=\"1651.5\" y=\"-230.8\" font-family=\"Times,serif\" font-size=\"14.00\" fill=\"#000000\">mse = 13.657</text>\n<text text-anchor=\"middle\" x=\"1651.5\" y=\"-215.8\" font-family=\"Times,serif\" font-size=\"14.00\" fill=\"#000000\">samples = 52</text>\n<text text-anchor=\"middle\" x=\"1651.5\" y=\"-200.8\" font-family=\"Times,serif\" font-size=\"14.00\" fill=\"#000000\">value = 17.66</text>\n</g>\n<!-- 34&#45;&gt;35 -->\n<g id=\"edge35\" class=\"edge\">\n<title>34&#45;&gt;35</title>\n<path fill=\"none\" stroke=\"#000000\" d=\"M1651.5,-296.9465C1651.5,-288.776 1651.5,-279.9318 1651.5,-271.3697\"/>\n<polygon fill=\"#000000\" stroke=\"#000000\" points=\"1655.0001,-271.13 1651.5,-261.13 1648.0001,-271.13 1655.0001,-271.13\"/>\n</g>\n<!-- 42 -->\n<g id=\"node43\" class=\"node\">\n<title>42</title>\n<polygon fill=\"#fdf5f0\" stroke=\"#000000\" points=\"2053,-261 1928,-261 1928,-193 2053,-193 2053,-261\"/>\n<text text-anchor=\"middle\" x=\"1990.5\" y=\"-245.8\" font-family=\"Times,serif\" font-size=\"14.00\" fill=\"#000000\">LSTAT &lt;= 19.645</text>\n<text text-anchor=\"middle\" x=\"1990.5\" y=\"-230.8\" font-family=\"Times,serif\" font-size=\"14.00\" fill=\"#000000\">mse = 13.149</text>\n<text text-anchor=\"middle\" x=\"1990.5\" y=\"-215.8\" font-family=\"Times,serif\" font-size=\"14.00\" fill=\"#000000\">samples = 93</text>\n<text text-anchor=\"middle\" x=\"1990.5\" y=\"-200.8\" font-family=\"Times,serif\" font-size=\"14.00\" fill=\"#000000\">value = 12.614</text>\n</g>\n<!-- 34&#45;&gt;42 -->\n<g id=\"edge42\" class=\"edge\">\n<title>34&#45;&gt;42</title>\n<path fill=\"none\" stroke=\"#000000\" d=\"M1704.8417,-314.6356C1762.3933,-296.9796 1854.3694,-268.7628 1918.3496,-249.1346\"/>\n<polygon fill=\"#000000\" stroke=\"#000000\" points=\"1919.4394,-252.4614 1927.9731,-246.1823 1917.3863,-245.7692 1919.4394,-252.4614\"/>\n</g>\n<!-- 36 -->\n<g id=\"node37\" class=\"node\">\n<title>36</title>\n<polygon fill=\"#f9e0ce\" stroke=\"#000000\" points=\"1642.5,-157 1538.5,-157 1538.5,-89 1642.5,-89 1642.5,-157\"/>\n<text text-anchor=\"middle\" x=\"1590.5\" y=\"-141.8\" font-family=\"Times,serif\" font-size=\"14.00\" fill=\"#000000\">AGE &lt;= 57.9</text>\n<text text-anchor=\"middle\" x=\"1590.5\" y=\"-126.8\" font-family=\"Times,serif\" font-size=\"14.00\" fill=\"#000000\">mse = 7.721</text>\n<text text-anchor=\"middle\" x=\"1590.5\" y=\"-111.8\" font-family=\"Times,serif\" font-size=\"14.00\" fill=\"#000000\">samples = 28</text>\n<text text-anchor=\"middle\" x=\"1590.5\" y=\"-96.8\" font-family=\"Times,serif\" font-size=\"14.00\" fill=\"#000000\">value = 19.514</text>\n</g>\n<!-- 35&#45;&gt;36 -->\n<g id=\"edge36\" class=\"edge\">\n<title>35&#45;&gt;36</title>\n<path fill=\"none\" stroke=\"#000000\" d=\"M1631.5263,-192.9465C1626.4707,-184.3271 1620.9753,-174.9579 1615.6983,-165.9611\"/>\n<polygon fill=\"#000000\" stroke=\"#000000\" points=\"1618.5969,-163.985 1610.5186,-157.13 1612.5589,-167.5265 1618.5969,-163.985\"/>\n</g>\n<!-- 39 -->\n<g id=\"node40\" class=\"node\">\n<title>39</title>\n<polygon fill=\"#fbede2\" stroke=\"#000000\" points=\"1764.5,-157 1660.5,-157 1660.5,-89 1764.5,-89 1764.5,-157\"/>\n<text text-anchor=\"middle\" x=\"1712.5\" y=\"-141.8\" font-family=\"Times,serif\" font-size=\"14.00\" fill=\"#000000\">RM &lt;= 6.843</text>\n<text text-anchor=\"middle\" x=\"1712.5\" y=\"-126.8\" font-family=\"Times,serif\" font-size=\"14.00\" fill=\"#000000\">mse = 11.889</text>\n<text text-anchor=\"middle\" x=\"1712.5\" y=\"-111.8\" font-family=\"Times,serif\" font-size=\"14.00\" fill=\"#000000\">samples = 24</text>\n<text text-anchor=\"middle\" x=\"1712.5\" y=\"-96.8\" font-family=\"Times,serif\" font-size=\"14.00\" fill=\"#000000\">value = 15.496</text>\n</g>\n<!-- 35&#45;&gt;39 -->\n<g id=\"edge39\" class=\"edge\">\n<title>35&#45;&gt;39</title>\n<path fill=\"none\" stroke=\"#000000\" d=\"M1671.4737,-192.9465C1676.5293,-184.3271 1682.0247,-174.9579 1687.3017,-165.9611\"/>\n<polygon fill=\"#000000\" stroke=\"#000000\" points=\"1690.4411,-167.5265 1692.4814,-157.13 1684.4031,-163.985 1690.4411,-167.5265\"/>\n</g>\n<!-- 37 -->\n<g id=\"node38\" class=\"node\">\n<title>37</title>\n<polygon fill=\"#f7d6bf\" stroke=\"#000000\" points=\"1520.5,-53 1416.5,-53 1416.5,0 1520.5,0 1520.5,-53\"/>\n<text text-anchor=\"middle\" x=\"1468.5\" y=\"-37.8\" font-family=\"Times,serif\" font-size=\"14.00\" fill=\"#000000\">mse = 0.562</text>\n<text text-anchor=\"middle\" x=\"1468.5\" y=\"-22.8\" font-family=\"Times,serif\" font-size=\"14.00\" fill=\"#000000\">samples = 4</text>\n<text text-anchor=\"middle\" x=\"1468.5\" y=\"-7.8\" font-family=\"Times,serif\" font-size=\"14.00\" fill=\"#000000\">value = 22.725</text>\n</g>\n<!-- 36&#45;&gt;37 -->\n<g id=\"edge37\" class=\"edge\">\n<title>36&#45;&gt;37</title>\n<path fill=\"none\" stroke=\"#000000\" d=\"M1547.4874,-88.9777C1535.4476,-79.4545 1522.3812,-69.1191 1510.4065,-59.6473\"/>\n<polygon fill=\"#000000\" stroke=\"#000000\" points=\"1512.3311,-56.7072 1502.3167,-53.2485 1507.9885,-62.1973 1512.3311,-56.7072\"/>\n</g>\n<!-- 38 -->\n<g id=\"node39\" class=\"node\">\n<title>38</title>\n<polygon fill=\"#f9e2d1\" stroke=\"#000000\" points=\"1642.5,-53 1538.5,-53 1538.5,0 1642.5,0 1642.5,-53\"/>\n<text text-anchor=\"middle\" x=\"1590.5\" y=\"-37.8\" font-family=\"Times,serif\" font-size=\"14.00\" fill=\"#000000\">mse = 6.909</text>\n<text text-anchor=\"middle\" x=\"1590.5\" y=\"-22.8\" font-family=\"Times,serif\" font-size=\"14.00\" fill=\"#000000\">samples = 24</text>\n<text text-anchor=\"middle\" x=\"1590.5\" y=\"-7.8\" font-family=\"Times,serif\" font-size=\"14.00\" fill=\"#000000\">value = 18.979</text>\n</g>\n<!-- 36&#45;&gt;38 -->\n<g id=\"edge38\" class=\"edge\">\n<title>36&#45;&gt;38</title>\n<path fill=\"none\" stroke=\"#000000\" d=\"M1590.5,-88.9777C1590.5,-80.7364 1590.5,-71.887 1590.5,-63.5153\"/>\n<polygon fill=\"#000000\" stroke=\"#000000\" points=\"1594.0001,-63.2484 1590.5,-53.2485 1587.0001,-63.2485 1594.0001,-63.2484\"/>\n</g>\n<!-- 40 -->\n<g id=\"node41\" class=\"node\">\n<title>40</title>\n<polygon fill=\"#fceee4\" stroke=\"#000000\" points=\"1764.5,-53 1660.5,-53 1660.5,0 1764.5,0 1764.5,-53\"/>\n<text text-anchor=\"middle\" x=\"1712.5\" y=\"-37.8\" font-family=\"Times,serif\" font-size=\"14.00\" fill=\"#000000\">mse = 5.868</text>\n<text text-anchor=\"middle\" x=\"1712.5\" y=\"-22.8\" font-family=\"Times,serif\" font-size=\"14.00\" fill=\"#000000\">samples = 23</text>\n<text text-anchor=\"middle\" x=\"1712.5\" y=\"-7.8\" font-family=\"Times,serif\" font-size=\"14.00\" fill=\"#000000\">value = 14.974</text>\n</g>\n<!-- 39&#45;&gt;40 -->\n<g id=\"edge40\" class=\"edge\">\n<title>39&#45;&gt;40</title>\n<path fill=\"none\" stroke=\"#000000\" d=\"M1712.5,-88.9777C1712.5,-80.7364 1712.5,-71.887 1712.5,-63.5153\"/>\n<polygon fill=\"#000000\" stroke=\"#000000\" points=\"1716.0001,-63.2484 1712.5,-53.2485 1709.0001,-63.2485 1716.0001,-63.2484\"/>\n</g>\n<!-- 41 -->\n<g id=\"node42\" class=\"node\">\n<title>41</title>\n<polygon fill=\"#f3c7a7\" stroke=\"#000000\" points=\"1872,-53 1783,-53 1783,0 1872,0 1872,-53\"/>\n<text text-anchor=\"middle\" x=\"1827.5\" y=\"-37.8\" font-family=\"Times,serif\" font-size=\"14.00\" fill=\"#000000\">mse = 0.0</text>\n<text text-anchor=\"middle\" x=\"1827.5\" y=\"-22.8\" font-family=\"Times,serif\" font-size=\"14.00\" fill=\"#000000\">samples = 1</text>\n<text text-anchor=\"middle\" x=\"1827.5\" y=\"-7.8\" font-family=\"Times,serif\" font-size=\"14.00\" fill=\"#000000\">value = 27.5</text>\n</g>\n<!-- 39&#45;&gt;41 -->\n<g id=\"edge41\" class=\"edge\">\n<title>39&#45;&gt;41</title>\n<path fill=\"none\" stroke=\"#000000\" d=\"M1753.0447,-88.9777C1764.2845,-79.546 1776.4736,-69.3178 1787.6721,-59.9208\"/>\n<polygon fill=\"#000000\" stroke=\"#000000\" points=\"1790.213,-62.3576 1795.6236,-53.2485 1785.7134,-56.9954 1790.213,-62.3576\"/>\n</g>\n<!-- 43 -->\n<g id=\"node44\" class=\"node\">\n<title>43</title>\n<polygon fill=\"#fbeee4\" stroke=\"#000000\" points=\"2050,-157 1931,-157 1931,-89 2050,-89 2050,-157\"/>\n<text text-anchor=\"middle\" x=\"1990.5\" y=\"-141.8\" font-family=\"Times,serif\" font-size=\"14.00\" fill=\"#000000\">CRIM &lt;= 12.224</text>\n<text text-anchor=\"middle\" x=\"1990.5\" y=\"-126.8\" font-family=\"Times,serif\" font-size=\"14.00\" fill=\"#000000\">mse = 6.348</text>\n<text text-anchor=\"middle\" x=\"1990.5\" y=\"-111.8\" font-family=\"Times,serif\" font-size=\"14.00\" fill=\"#000000\">samples = 42</text>\n<text text-anchor=\"middle\" x=\"1990.5\" y=\"-96.8\" font-family=\"Times,serif\" font-size=\"14.00\" fill=\"#000000\">value = 15.169</text>\n</g>\n<!-- 42&#45;&gt;43 -->\n<g id=\"edge43\" class=\"edge\">\n<title>42&#45;&gt;43</title>\n<path fill=\"none\" stroke=\"#000000\" d=\"M1990.5,-192.9465C1990.5,-184.776 1990.5,-175.9318 1990.5,-167.3697\"/>\n<polygon fill=\"#000000\" stroke=\"#000000\" points=\"1994.0001,-167.13 1990.5,-157.13 1987.0001,-167.13 1994.0001,-167.13\"/>\n</g>\n<!-- 46 -->\n<g id=\"node47\" class=\"node\">\n<title>46</title>\n<polygon fill=\"#fefcfa\" stroke=\"#000000\" points=\"2220.5,-157 2116.5,-157 2116.5,-89 2220.5,-89 2220.5,-157\"/>\n<text text-anchor=\"middle\" x=\"2168.5\" y=\"-141.8\" font-family=\"Times,serif\" font-size=\"14.00\" fill=\"#000000\">TAX &lt;= 551.5</text>\n<text text-anchor=\"middle\" x=\"2168.5\" y=\"-126.8\" font-family=\"Times,serif\" font-size=\"14.00\" fill=\"#000000\">mse = 8.945</text>\n<text text-anchor=\"middle\" x=\"2168.5\" y=\"-111.8\" font-family=\"Times,serif\" font-size=\"14.00\" fill=\"#000000\">samples = 51</text>\n<text text-anchor=\"middle\" x=\"2168.5\" y=\"-96.8\" font-family=\"Times,serif\" font-size=\"14.00\" fill=\"#000000\">value = 10.51</text>\n</g>\n<!-- 42&#45;&gt;46 -->\n<g id=\"edge46\" class=\"edge\">\n<title>42&#45;&gt;46</title>\n<path fill=\"none\" stroke=\"#000000\" d=\"M2048.7839,-192.9465C2067.6026,-181.9513 2088.5098,-169.7359 2107.5181,-158.6299\"/>\n<polygon fill=\"#000000\" stroke=\"#000000\" points=\"2109.5219,-161.5128 2116.3905,-153.446 2105.9905,-155.4688 2109.5219,-161.5128\"/>\n</g>\n<!-- 44 -->\n<g id=\"node45\" class=\"node\">\n<title>44</title>\n<polygon fill=\"#fbece1\" stroke=\"#000000\" points=\"1994.5,-53 1890.5,-53 1890.5,0 1994.5,0 1994.5,-53\"/>\n<text text-anchor=\"middle\" x=\"1942.5\" y=\"-37.8\" font-family=\"Times,serif\" font-size=\"14.00\" fill=\"#000000\">mse = 4.941</text>\n<text text-anchor=\"middle\" x=\"1942.5\" y=\"-22.8\" font-family=\"Times,serif\" font-size=\"14.00\" fill=\"#000000\">samples = 38</text>\n<text text-anchor=\"middle\" x=\"1942.5\" y=\"-7.8\" font-family=\"Times,serif\" font-size=\"14.00\" fill=\"#000000\">value = 15.597</text>\n</g>\n<!-- 43&#45;&gt;44 -->\n<g id=\"edge44\" class=\"edge\">\n<title>43&#45;&gt;44</title>\n<path fill=\"none\" stroke=\"#000000\" d=\"M1973.577,-88.9777C1969.2955,-80.3702 1964.684,-71.0992 1960.358,-62.402\"/>\n<polygon fill=\"#000000\" stroke=\"#000000\" points=\"1963.3923,-60.6433 1955.8049,-53.2485 1957.1248,-63.7608 1963.3923,-60.6433\"/>\n</g>\n<!-- 45 -->\n<g id=\"node46\" class=\"node\">\n<title>45</title>\n<polygon fill=\"#fefaf7\" stroke=\"#000000\" points=\"2102,-53 2013,-53 2013,0 2102,0 2102,-53\"/>\n<text text-anchor=\"middle\" x=\"2057.5\" y=\"-37.8\" font-family=\"Times,serif\" font-size=\"14.00\" fill=\"#000000\">mse = 1.415</text>\n<text text-anchor=\"middle\" x=\"2057.5\" y=\"-22.8\" font-family=\"Times,serif\" font-size=\"14.00\" fill=\"#000000\">samples = 4</text>\n<text text-anchor=\"middle\" x=\"2057.5\" y=\"-7.8\" font-family=\"Times,serif\" font-size=\"14.00\" fill=\"#000000\">value = 11.1</text>\n</g>\n<!-- 43&#45;&gt;45 -->\n<g id=\"edge45\" class=\"edge\">\n<title>43&#45;&gt;45</title>\n<path fill=\"none\" stroke=\"#000000\" d=\"M2014.1217,-88.9777C2020.2887,-80.0954 2026.9461,-70.5067 2033.1501,-61.5711\"/>\n<polygon fill=\"#000000\" stroke=\"#000000\" points=\"2036.1003,-63.4589 2038.9285,-53.2485 2030.3503,-59.4666 2036.1003,-63.4589\"/>\n</g>\n<!-- 47 -->\n<g id=\"node48\" class=\"node\">\n<title>47</title>\n<polygon fill=\"#fcf0e7\" stroke=\"#000000\" points=\"2217,-53 2120,-53 2120,0 2217,0 2217,-53\"/>\n<text text-anchor=\"middle\" x=\"2168.5\" y=\"-37.8\" font-family=\"Times,serif\" font-size=\"14.00\" fill=\"#000000\">mse = 2.353</text>\n<text text-anchor=\"middle\" x=\"2168.5\" y=\"-22.8\" font-family=\"Times,serif\" font-size=\"14.00\" fill=\"#000000\">samples = 10</text>\n<text text-anchor=\"middle\" x=\"2168.5\" y=\"-7.8\" font-family=\"Times,serif\" font-size=\"14.00\" fill=\"#000000\">value = 14.41</text>\n</g>\n<!-- 46&#45;&gt;47 -->\n<g id=\"edge47\" class=\"edge\">\n<title>46&#45;&gt;47</title>\n<path fill=\"none\" stroke=\"#000000\" d=\"M2168.5,-88.9777C2168.5,-80.7364 2168.5,-71.887 2168.5,-63.5153\"/>\n<polygon fill=\"#000000\" stroke=\"#000000\" points=\"2172.0001,-63.2484 2168.5,-53.2485 2165.0001,-63.2485 2172.0001,-63.2484\"/>\n</g>\n<!-- 48 -->\n<g id=\"node49\" class=\"node\">\n<title>48</title>\n<polygon fill=\"#ffffff\" stroke=\"#000000\" points=\"2332,-53 2235,-53 2235,0 2332,0 2332,-53\"/>\n<text text-anchor=\"middle\" x=\"2283.5\" y=\"-37.8\" font-family=\"Times,serif\" font-size=\"14.00\" fill=\"#000000\">mse = 5.938</text>\n<text text-anchor=\"middle\" x=\"2283.5\" y=\"-22.8\" font-family=\"Times,serif\" font-size=\"14.00\" fill=\"#000000\">samples = 41</text>\n<text text-anchor=\"middle\" x=\"2283.5\" y=\"-7.8\" font-family=\"Times,serif\" font-size=\"14.00\" fill=\"#000000\">value = 9.559</text>\n</g>\n<!-- 46&#45;&gt;48 -->\n<g id=\"edge48\" class=\"edge\">\n<title>46&#45;&gt;48</title>\n<path fill=\"none\" stroke=\"#000000\" d=\"M2209.0447,-88.9777C2220.2845,-79.546 2232.4736,-69.3178 2243.6721,-59.9208\"/>\n<polygon fill=\"#000000\" stroke=\"#000000\" points=\"2246.213,-62.3576 2251.6236,-53.2485 2241.7134,-56.9954 2246.213,-62.3576\"/>\n</g>\n</g>\n</svg>\n"
          },
          "metadata": {
            "tags": []
          },
          "execution_count": 36
        }
      ]
    },
    {
      "cell_type": "code",
      "metadata": {
        "id": "7syMVW-gubBS",
        "colab_type": "code",
        "colab": {
          "base_uri": "https://localhost:8080/",
          "height": 202
        },
        "outputId": "3372be93-8748-44ca-9d48-d62bf4b7d35d"
      },
      "source": [
        "pre = reg.predict(x_test)\n",
        "pre"
      ],
      "execution_count": 37,
      "outputs": [
        {
          "output_type": "execute_result",
          "data": {
            "text/plain": [
              "array([50.        , 19.14814815, 15.59736842, 21.02209302, 21.02209302,\n",
              "       15.59736842, 21.02209302,  9.55853659, 46.225     , 46.225     ,\n",
              "       22.74545455, 10.9       , 35.43      , 15.59736842, 38.9       ,\n",
              "        9.55853659, 46.225     , 18.97916667, 19.14814815, 15.59736842,\n",
              "       18.97916667, 21.02209302, 18.97916667, 22.74545455, 31.275     ,\n",
              "       22.74545455, 22.74545455,  9.55853659, 46.225     , 35.43      ,\n",
              "       18.97916667, 46.225     , 18.97916667, 22.74545455, 35.43      ,\n",
              "       22.74545455, 21.02209302, 22.74545455,  9.55853659, 21.02209302,\n",
              "       21.02209302, 22.74545455, 18.97916667,  9.55853659, 26.39117647,\n",
              "       26.39117647, 15.59736842, 31.275     , 19.14814815, 21.02209302,\n",
              "       15.59736842])"
            ]
          },
          "metadata": {
            "tags": []
          },
          "execution_count": 37
        }
      ]
    }
  ]
}