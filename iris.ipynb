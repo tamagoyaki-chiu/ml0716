{
  "nbformat": 4,
  "nbformat_minor": 0,
  "metadata": {
    "colab": {
      "name": "iris.ipynb",
      "provenance": [],
      "collapsed_sections": [],
      "authorship_tag": "ABX9TyODynEnkr2RreFWORkBRwSC",
      "include_colab_link": true
    },
    "kernelspec": {
      "name": "python3",
      "display_name": "Python 3"
    }
  },
  "cells": [
    {
      "cell_type": "markdown",
      "metadata": {
        "id": "view-in-github",
        "colab_type": "text"
      },
      "source": [
        "<a href=\"https://colab.research.google.com/github/tamagoyaki-chiu/ml0716/blob/master/iris.ipynb\" target=\"_parent\"><img src=\"https://colab.research.google.com/assets/colab-badge.svg\" alt=\"Open In Colab\"/></a>"
      ]
    },
    {
      "cell_type": "code",
      "metadata": {
        "id": "JUDHiq0JOP2a",
        "colab_type": "code",
        "colab": {}
      },
      "source": [
        "! pip install opencv-python #直接執行指令的意思(雖然colab裡面本來應該就有安裝)"
      ],
      "execution_count": null,
      "outputs": []
    },
    {
      "cell_type": "code",
      "metadata": {
        "id": "J6wuWASYdllh",
        "colab_type": "code",
        "colab": {}
      },
      "source": [
        "import pandas as pd #大家習慣取名叫pd\n",
        "from sklearn.datasets import load_iris\n",
        "iris = load_iris()\n",
        "df = pd.DataFrame(iris[\"data\"], #DataFrame就是pandas的表格\n",
        "                  columns=iris[\"feature_names\"])\n",
        "df[\"answer\"]=iris[\"target\"] #答案\n",
        "df.to_csv(\"iris.csv\", encoding=\"utf-8\", index=False)\n",
        "df"
      ],
      "execution_count": null,
      "outputs": []
    },
    {
      "cell_type": "code",
      "metadata": {
        "id": "LgahMyyDRLBW",
        "colab_type": "code",
        "colab": {}
      },
      "source": [
        "from sklearn.model_selection import train_test_split\n",
        "#[90% data,10% data, 90% target, 10% target]\n",
        "x_train, x_test, y_train, y_test = train_test_split(iris[\"data\"],\n",
        "                                                    iris[\"target\"],\n",
        "                                                    test_size=0.1)\n",
        "x_train"
      ],
      "execution_count": null,
      "outputs": []
    },
    {
      "cell_type": "code",
      "metadata": {
        "id": "Jof_vd43SgMk",
        "colab_type": "code",
        "colab": {}
      },
      "source": [
        "from sklearn.tree import DecisionTreeClassifier #分類方式  DecisionTreegressor是回歸\n",
        "clf = DecisionTreeClassifier()\n",
        "clf.fit(x_train, y_train)"
      ],
      "execution_count": null,
      "outputs": []
    },
    {
      "cell_type": "code",
      "metadata": {
        "id": "BZo-nL_nTqhD",
        "colab_type": "code",
        "colab": {}
      },
      "source": [
        "import graphviz\n",
        "from sklearn.tree import export_graphviz\n",
        "g = export_graphviz(clf,\n",
        "                    feature_names=iris[\"feature_names\"],\n",
        "                    class_names=iris[\"target_names\"],\n",
        "                    filled=True)\n",
        "graphviz.Source(g) #gini係數=(1-(猜錯的程度、機率)) 越來越小  P1(1-P1)+P2(1-P2)"
      ],
      "execution_count": null,
      "outputs": []
    },
    {
      "cell_type": "code",
      "metadata": {
        "id": "aKjUnzNUg1ns",
        "colab_type": "code",
        "colab": {
          "base_uri": "https://localhost:8080/",
          "height": 34
        },
        "outputId": "ff67a9b8-fc84-4445-b896-aee5166cb5d5"
      },
      "source": [
        "from sklearn.metrics import accuracy_score\n",
        "pre = clf.predict(x_test)\n",
        "accuracy_score(pre,y_test)"
      ],
      "execution_count": 24,
      "outputs": [
        {
          "output_type": "execute_result",
          "data": {
            "text/plain": [
              "0.9333333333333333"
            ]
          },
          "metadata": {
            "tags": []
          },
          "execution_count": 24
        }
      ]
    }
  ]
}